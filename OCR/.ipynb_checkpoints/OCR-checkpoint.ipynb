{
 "cells": [
  {
   "cell_type": "code",
   "execution_count": 3,
   "metadata": {},
   "outputs": [
    {
     "name": "stdout",
     "output_type": "stream",
     "text": [
      "training complete\n"
     ]
    }
   ],
   "source": [
    "# import sys\n",
    "\n",
    "# import numpy as np\n",
    "# import cv2\n",
    "\n",
    "# im = cv2.imread('IwQY6.png')\n",
    "# im3 = im.copy()\n",
    "\n",
    "# gray = cv2.cvtColor(im,cv2.COLOR_BGR2GRAY)\n",
    "# blur = cv2.GaussianBlur(gray,(5,5),0)\n",
    "# thresh = cv2.adaptiveThreshold(blur,255,1,1,11,2)\n",
    "\n",
    "# #################      Now finding Contours         ###################\n",
    "\n",
    "# _,contours,hierarchy = cv2.findContours(thresh,cv2.RETR_LIST,cv2.CHAIN_APPROX_SIMPLE)\n",
    "\n",
    "# samples =  np.empty((0,100))\n",
    "# responses = []\n",
    "# keys = [i for i in range(48,58)]\n",
    "\n",
    "# for cnt in contours:\n",
    "#     if cv2.contourArea(cnt)>50:\n",
    "#         [x,y,w,h] = cv2.boundingRect(cnt)\n",
    "\n",
    "#         if  h>28:\n",
    "#             cv2.rectangle(im,(x,y),(x+w,y+h),(0,0,255),2)\n",
    "#             roi = thresh[y:y+h,x:x+w]\n",
    "#             roismall = cv2.resize(roi,(10,10))\n",
    "#             cv2.imshow('norm',im)\n",
    "#             key = cv2.waitKey(0)\n",
    "\n",
    "#             if key == 27:  # (escape to quit)\n",
    "#                 sys.exit()\n",
    "#             elif key in keys:\n",
    "#                 responses.append(int(chr(key)))\n",
    "#                 sample = roismall.reshape((1,100))\n",
    "#                 samples = np.append(samples,sample,0)\n",
    "\n",
    "# responses = np.array(responses,np.float32)\n",
    "# responses = responses.reshape((responses.size,1))\n",
    "# print(\"training complete\")\n",
    "\n",
    "# np.savetxt('generalsamples.data',samples)\n",
    "# np.savetxt('generalresponses.data',responses)"
   ]
  },
  {
   "cell_type": "code",
   "execution_count": 9,
   "metadata": {},
   "outputs": [
    {
     "ename": "NameError",
     "evalue": "name 'sys' is not defined",
     "output_type": "error",
     "traceback": [
      "\u001b[1;31m---------------------------------------------------------------------------\u001b[0m",
      "\u001b[1;31mNameError\u001b[0m                                 Traceback (most recent call last)",
      "\u001b[1;32m<ipython-input-9-c3f837e15812>\u001b[0m in \u001b[0;36m<module>\u001b[1;34m()\u001b[0m\n\u001b[0;32m     40\u001b[0m \u001b[1;33m\u001b[0m\u001b[0m\n\u001b[0;32m     41\u001b[0m             \u001b[1;32mif\u001b[0m \u001b[0mkey\u001b[0m \u001b[1;33m==\u001b[0m \u001b[1;36m27\u001b[0m\u001b[1;33m:\u001b[0m  \u001b[1;31m# (escape to quit)\u001b[0m\u001b[1;33m\u001b[0m\u001b[0m\n\u001b[1;32m---> 42\u001b[1;33m                 \u001b[0msys\u001b[0m\u001b[1;33m.\u001b[0m\u001b[0mexit\u001b[0m\u001b[1;33m(\u001b[0m\u001b[1;33m)\u001b[0m\u001b[1;33m\u001b[0m\u001b[0m\n\u001b[0m\u001b[0;32m     43\u001b[0m \u001b[1;33m\u001b[0m\u001b[0m\n\u001b[0;32m     44\u001b[0m \u001b[0mcv2\u001b[0m\u001b[1;33m.\u001b[0m\u001b[0mimshow\u001b[0m\u001b[1;33m(\u001b[0m\u001b[1;34m'im'\u001b[0m\u001b[1;33m,\u001b[0m\u001b[0mim\u001b[0m\u001b[1;33m)\u001b[0m\u001b[1;33m\u001b[0m\u001b[0m\n",
      "\u001b[1;31mNameError\u001b[0m: name 'sys' is not defined"
     ]
    }
   ],
   "source": [
    "import cv2\n",
    "import numpy as np\n",
    "import sys\n",
    "\n",
    "#######   training part    ############### \n",
    "samples = np.loadtxt('generalsamples.data',np.float32)\n",
    "responses = np.loadtxt('generalresponses.data',np.float32)\n",
    "responses = responses.reshape((responses.size))\n",
    "\n",
    "# responses.shape\n",
    "\n",
    "model = cv2.ml.KNearest_create()\n",
    "model.train(samples,cv2.ml.ROW_SAMPLE,responses)\n",
    "\n",
    "############################# testing part  #########################\n",
    "\n",
    "im = cv2.imread('dPaE8.png')\n",
    "out = np.zeros(im.shape,np.uint8)\n",
    "gray = cv2.cvtColor(im,cv2.COLOR_BGR2GRAY)\n",
    "thresh = cv2.adaptiveThreshold(gray,255,1,1,11,2)\n",
    "\n",
    "_,contours,hierarchy = cv2.findContours(thresh,cv2.RETR_LIST,cv2.CHAIN_APPROX_SIMPLE)\n",
    "\n",
    "s=''\n",
    "for cnt in contours:\n",
    "    if cv2.contourArea(cnt)>50:\n",
    "        [x,y,w,h] = cv2.boundingRect(cnt)\n",
    "        if  h>28:\n",
    "            cv2.rectangle(im,(x,y),(x+w,y+h),(0,255,0),2)\n",
    "            roi = thresh[y:y+h,x:x+w]\n",
    "            roismall = cv2.resize(roi,(10,10))\n",
    "            roismall = roismall.reshape((1,100))\n",
    "            roismall = np.float32(roismall)\n",
    "            retval, results, neigh_resp, dists = model.findNearest(roismall, k = 1)\n",
    "            string = str(int((results[0][0])))\n",
    "            s=s+string\n",
    "            cv2.putText(out,string,(x,y+h),0,1,(0,255,0))\n",
    "            cv2.imshow('norm',im)\n",
    "            cv2.imshow('outt',out)\n",
    "            key = cv2.waitKey(0)\n",
    "\n",
    "            if key == 27:  # (escape to quit)\n",
    "                sys.exit()\n",
    "\n",
    "cv2.imshow('im',im)\n",
    "cv2.imshow('out',out)\n",
    "cv2.waitKey(0)\n",
    "cv2.destroyAllWindows()"
   ]
  },
  {
   "cell_type": "code",
   "execution_count": 8,
   "metadata": {},
   "outputs": [
    {
     "data": {
      "text/plain": [
       "'748264433956657908824461198303945984922644695550112583907204820547848111111280495352732285055906441183907466032823568084289117607243528430826899802611826046870329544947902850157399396794882059723831113462648323979853562951431'"
      ]
     },
     "execution_count": 8,
     "metadata": {},
     "output_type": "execute_result"
    }
   ],
   "source": [
    "s"
   ]
  },
  {
   "cell_type": "code",
   "execution_count": null,
   "metadata": {
    "collapsed": true
   },
   "outputs": [],
   "source": []
  }
 ],
 "metadata": {
  "kernelspec": {
   "display_name": "Python 3",
   "language": "python",
   "name": "python3"
  },
  "language_info": {
   "codemirror_mode": {
    "name": "ipython",
    "version": 3
   },
   "file_extension": ".py",
   "mimetype": "text/x-python",
   "name": "python",
   "nbconvert_exporter": "python",
   "pygments_lexer": "ipython3",
   "version": "3.6.1"
  }
 },
 "nbformat": 4,
 "nbformat_minor": 2
}
