{
 "cells": [
  {
   "cell_type": "code",
   "execution_count": 1,
   "metadata": {
    "collapsed": true
   },
   "outputs": [],
   "source": [
    "import cv2\n",
    "import numpy as np"
   ]
  },
  {
   "cell_type": "code",
   "execution_count": null,
   "metadata": {
    "collapsed": true
   },
   "outputs": [],
   "source": []
  },
  {
   "cell_type": "code",
   "execution_count": 15,
   "metadata": {},
   "outputs": [
    {
     "name": "stdout",
     "output_type": "stream",
     "text": [
      "[[10  5]\n",
      " [20 30]\n",
      " [70 20]\n",
      " [50 10]]\n",
      "[[[ 25 116]]\n",
      "\n",
      " [[ 24 118]]\n",
      "\n",
      " [[ 21 121]]\n",
      "\n",
      " [[ 18 122]]\n",
      "\n",
      " [[ 10 122]]\n",
      "\n",
      " [[ 10  81]]\n",
      "\n",
      " [[ 20  81]]\n",
      "\n",
      " [[ 22  82]]\n",
      "\n",
      " [[ 23  83]]\n",
      "\n",
      " [[ 25  87]]]\n"
     ]
    }
   ],
   "source": [
    "mser = cv2.MSER_create()\n",
    "\n",
    "#Your image path i-e receipt path\n",
    "img = cv2.imread(\"bookpage.jpg\")\n",
    "\n",
    "#Convert to gray scale\n",
    "gray = cv2.cvtColor(img, cv2.COLOR_BGR2GRAY)\n",
    "\n",
    "vis = img.copy()\n",
    "\n",
    "#detect regions in gray scale image\n",
    "regions, _ = mser.detectRegions(gray)\n",
    "\n",
    "hulls = [cv2.convexHull(p.reshape(-1, 1, 2)) for p in regions]\n",
    "\n",
    "# len(hulls[1][0])\n",
    "# cv2.polylines(vis, hulls, 1, (0, 255, 0))\n",
    "pts = np.array([[10,5],[20,30],[70,20],[50,10]], np.int32)\n",
    "\n",
    "a = np.array(hulls[0])\n",
    "\n",
    "\n",
    "print(pts)\n",
    "print(a)\n",
    "\n",
    "\n",
    "cv2.polylines(vis, [a], 1, (0, 255, 0))\n",
    "\n",
    "cv2.imshow('img', vis)\n",
    "\n",
    "# cv2.waitKey(1)\n",
    "\n",
    "# mask = np.zeros((img.shape[0], img.shape[1], 1), dtype=np.uint8)\n",
    "\n",
    "# for contour in hulls:\n",
    "\n",
    "#     cv2.drawContours(mask, [contour], -1, (255, 255, 255), -1)\n",
    "\n",
    "# #this is used to find only text regions, remaining are ignored\n",
    "# text_only = cv2.bitwise_and(img, img, mask=mask)\n",
    "\n",
    "# cv2.imshow(\"text only\", text_only)\n",
    "\n",
    "cv2.waitKey(0)\n",
    "cv2.destroyAllWindows()"
   ]
  },
  {
   "cell_type": "code",
   "execution_count": null,
   "metadata": {
    "collapsed": true
   },
   "outputs": [],
   "source": []
  }
 ],
 "metadata": {
  "kernelspec": {
   "display_name": "Python 3",
   "language": "python",
   "name": "python3"
  },
  "language_info": {
   "codemirror_mode": {
    "name": "ipython",
    "version": 3
   },
   "file_extension": ".py",
   "mimetype": "text/x-python",
   "name": "python",
   "nbconvert_exporter": "python",
   "pygments_lexer": "ipython3",
   "version": "3.6.1"
  }
 },
 "nbformat": 4,
 "nbformat_minor": 2
}
